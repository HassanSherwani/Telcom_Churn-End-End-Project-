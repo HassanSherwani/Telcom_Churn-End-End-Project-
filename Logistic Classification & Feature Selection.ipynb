{
 "cells": [
  {
   "cell_type": "markdown",
   "metadata": {},
   "source": [
    "# Logistic Classification & Feature Selection"
   ]
  },
  {
   "cell_type": "code",
   "execution_count": 1,
   "metadata": {},
   "outputs": [],
   "source": [
    "# I am an engineer. I care only about error not warning. So, let's be maverick and ignore warnings.\n",
    "import warnings\n",
    "warnings.filterwarnings('ignore')"
   ]
  },
  {
   "cell_type": "code",
   "execution_count": 2,
   "metadata": {},
   "outputs": [],
   "source": [
    "#support both Python 2 and Python 3 with minimal overhead.\n",
    "from __future__ import absolute_import, division, print_function"
   ]
  },
  {
   "cell_type": "code",
   "execution_count": 3,
   "metadata": {},
   "outputs": [
    {
     "name": "stdout",
     "output_type": "stream",
     "text": [
      "Populating the interactive namespace from numpy and matplotlib\n"
     ]
    }
   ],
   "source": [
    "#For Visuals\n",
    "import matplotlib.pyplot as plt\n",
    "import seaborn as sns\n",
    "sns.set()\n",
    "from matplotlib import rcParams\n",
    "rcParams['figure.figsize'] = 11, 8\n",
    "%config InlineBackend.figure_format = 'svg'\n",
    "%matplotlib inline\n",
    "%pylab inline"
   ]
  },
  {
   "cell_type": "code",
   "execution_count": 4,
   "metadata": {},
   "outputs": [],
   "source": [
    "# For processing and maths\n",
    "import numpy as np\n",
    "import pandas as pd\n",
    "import requests\n",
    "import pickle\n",
    "import statsmodels.api as sm\n",
    "from statsmodels.stats.outliers_influence import variance_inflation_factor"
   ]
  },
  {
   "cell_type": "code",
   "execution_count": 5,
   "metadata": {},
   "outputs": [],
   "source": [
    "# Use our feature engineered file\n",
    "df = pd.read_pickle('file_clean.pkl')"
   ]
  },
  {
   "cell_type": "code",
   "execution_count": 6,
   "metadata": {
    "scrolled": true
   },
   "outputs": [
    {
     "data": {
      "text/html": [
       "<div>\n",
       "<style scoped>\n",
       "    .dataframe tbody tr th:only-of-type {\n",
       "        vertical-align: middle;\n",
       "    }\n",
       "\n",
       "    .dataframe tbody tr th {\n",
       "        vertical-align: top;\n",
       "    }\n",
       "\n",
       "    .dataframe thead th {\n",
       "        text-align: right;\n",
       "    }\n",
       "</style>\n",
       "<table border=\"1\" class=\"dataframe\">\n",
       "  <thead>\n",
       "    <tr style=\"text-align: right;\">\n",
       "      <th></th>\n",
       "      <th>Customer.ID</th>\n",
       "      <th>Years.customer</th>\n",
       "      <th>Months.customer</th>\n",
       "      <th>Minutes.in.2018</th>\n",
       "      <th>Minutes.onnet</th>\n",
       "      <th>Minutes.offnet</th>\n",
       "      <th>Number.of.SMS</th>\n",
       "      <th>KBs.used</th>\n",
       "      <th>Total.Unique.Calls</th>\n",
       "      <th>Previous.provider</th>\n",
       "      <th>...</th>\n",
       "      <th>Customer.Age</th>\n",
       "      <th>Customer.Municipality</th>\n",
       "      <th>Latitude</th>\n",
       "      <th>Longitude</th>\n",
       "      <th>Province</th>\n",
       "      <th>LoginsSite.Last.Month</th>\n",
       "      <th>LoginsSite.Last.6Months</th>\n",
       "      <th>EndSubscription</th>\n",
       "      <th>Total.Call.centre.complaint.calls</th>\n",
       "      <th>MonthlySubscriptionPrice</th>\n",
       "    </tr>\n",
       "  </thead>\n",
       "  <tbody>\n",
       "    <tr>\n",
       "      <th>0</th>\n",
       "      <td>ADF1259</td>\n",
       "      <td>3805</td>\n",
       "      <td>126.83</td>\n",
       "      <td>4091.616</td>\n",
       "      <td>1436.324929</td>\n",
       "      <td>2655.291071</td>\n",
       "      <td>81</td>\n",
       "      <td>3624.3750</td>\n",
       "      <td>117</td>\n",
       "      <td>KPN</td>\n",
       "      <td>...</td>\n",
       "      <td>44</td>\n",
       "      <td>Utrecht</td>\n",
       "      <td>52.090737</td>\n",
       "      <td>5.12142</td>\n",
       "      <td>Utrecht</td>\n",
       "      <td>6</td>\n",
       "      <td>11</td>\n",
       "      <td>5</td>\n",
       "      <td>2</td>\n",
       "      <td>45.640142</td>\n",
       "    </tr>\n",
       "    <tr>\n",
       "      <th>1</th>\n",
       "      <td>ADF1192</td>\n",
       "      <td>2905</td>\n",
       "      <td>96.83</td>\n",
       "      <td>3179.280</td>\n",
       "      <td>1949.967368</td>\n",
       "      <td>1229.312632</td>\n",
       "      <td>101</td>\n",
       "      <td>551842.8331</td>\n",
       "      <td>106</td>\n",
       "      <td>Telfort</td>\n",
       "      <td>...</td>\n",
       "      <td>31</td>\n",
       "      <td>Hoogeveen</td>\n",
       "      <td>52.728616</td>\n",
       "      <td>6.49010</td>\n",
       "      <td>Drenthe</td>\n",
       "      <td>8</td>\n",
       "      <td>12</td>\n",
       "      <td>4</td>\n",
       "      <td>2</td>\n",
       "      <td>21.871447</td>\n",
       "    </tr>\n",
       "  </tbody>\n",
       "</table>\n",
       "<p>2 rows × 21 columns</p>\n",
       "</div>"
      ],
      "text/plain": [
       "  Customer.ID  Years.customer  Months.customer  Minutes.in.2018  \\\n",
       "0     ADF1259            3805           126.83         4091.616   \n",
       "1     ADF1192            2905            96.83         3179.280   \n",
       "\n",
       "   Minutes.onnet  Minutes.offnet  Number.of.SMS     KBs.used  \\\n",
       "0    1436.324929     2655.291071             81    3624.3750   \n",
       "1    1949.967368     1229.312632            101  551842.8331   \n",
       "\n",
       "   Total.Unique.Calls Previous.provider            ...             \\\n",
       "0                 117               KPN            ...              \n",
       "1                 106           Telfort            ...              \n",
       "\n",
       "   Customer.Age  Customer.Municipality   Latitude  Longitude  Province  \\\n",
       "0            44                Utrecht  52.090737    5.12142   Utrecht   \n",
       "1            31              Hoogeveen  52.728616    6.49010   Drenthe   \n",
       "\n",
       "  LoginsSite.Last.Month  LoginsSite.Last.6Months  EndSubscription  \\\n",
       "0                     6                       11                5   \n",
       "1                     8                       12                4   \n",
       "\n",
       "   Total.Call.centre.complaint.calls  MonthlySubscriptionPrice  \n",
       "0                                  2                 45.640142  \n",
       "1                                  2                 21.871447  \n",
       "\n",
       "[2 rows x 21 columns]"
      ]
     },
     "execution_count": 6,
     "metadata": {},
     "output_type": "execute_result"
    }
   ],
   "source": [
    "df.head(2)"
   ]
  },
  {
   "cell_type": "markdown",
   "metadata": {},
   "source": [
    "### Variable to be dropped"
   ]
  },
  {
   "cell_type": "code",
   "execution_count": 7,
   "metadata": {},
   "outputs": [],
   "source": [
    "df.drop(['Customer.ID'], axis=1, inplace=True)"
   ]
  },
  {
   "cell_type": "code",
   "execution_count": 8,
   "metadata": {},
   "outputs": [],
   "source": [
    "df.drop(['Customer.Municipality'], axis=1, inplace=True)"
   ]
  },
  {
   "cell_type": "code",
   "execution_count": 9,
   "metadata": {},
   "outputs": [
    {
     "data": {
      "text/plain": [
       "(1200, 19)"
      ]
     },
     "execution_count": 9,
     "metadata": {},
     "output_type": "execute_result"
    }
   ],
   "source": [
    "df.shape"
   ]
  },
  {
   "cell_type": "code",
   "execution_count": 10,
   "metadata": {},
   "outputs": [],
   "source": [
    "province_dummy=pd.get_dummies(df['Province'],prefix='Province').iloc[:,1:]"
   ]
  },
  {
   "cell_type": "code",
   "execution_count": 11,
   "metadata": {},
   "outputs": [],
   "source": [
    "df=pd.concat([df,province_dummy],axis=1)"
   ]
  },
  {
   "cell_type": "code",
   "execution_count": 12,
   "metadata": {},
   "outputs": [
    {
     "data": {
      "text/plain": [
       "(1200, 30)"
      ]
     },
     "execution_count": 12,
     "metadata": {},
     "output_type": "execute_result"
    }
   ],
   "source": [
    "df.shape"
   ]
  },
  {
   "cell_type": "code",
   "execution_count": 13,
   "metadata": {},
   "outputs": [],
   "source": [
    "df.drop(['Province'], axis=1, inplace=True)"
   ]
  },
  {
   "cell_type": "code",
   "execution_count": 14,
   "metadata": {},
   "outputs": [],
   "source": [
    "#len(df['Customer.Municipality'].value_counts())"
   ]
  },
  {
   "cell_type": "code",
   "execution_count": 15,
   "metadata": {},
   "outputs": [],
   "source": [
    "#municipality_dummy=pd.get_dummies(df['Customer.Municipality'],prefix='Customer.Municipality').iloc[:,1:]"
   ]
  },
  {
   "cell_type": "code",
   "execution_count": 16,
   "metadata": {},
   "outputs": [],
   "source": [
    "#df=pd.concat([df,municipality_dummy],axis=1)"
   ]
  },
  {
   "cell_type": "code",
   "execution_count": 17,
   "metadata": {},
   "outputs": [],
   "source": [
    "#df.shape"
   ]
  },
  {
   "cell_type": "code",
   "execution_count": 18,
   "metadata": {},
   "outputs": [],
   "source": [
    "#df.drop(['Customer.Municipality'], axis=1, inplace=True)"
   ]
  },
  {
   "cell_type": "code",
   "execution_count": 19,
   "metadata": {},
   "outputs": [
    {
     "data": {
      "text/plain": [
       "7"
      ]
     },
     "execution_count": 19,
     "metadata": {},
     "output_type": "execute_result"
    }
   ],
   "source": [
    "len(df['Previous.provider'].value_counts())"
   ]
  },
  {
   "cell_type": "code",
   "execution_count": 20,
   "metadata": {},
   "outputs": [],
   "source": [
    "provider_dummy=pd.get_dummies(df['Previous.provider'],prefix='Previous.provider').iloc[:,1:]"
   ]
  },
  {
   "cell_type": "code",
   "execution_count": 21,
   "metadata": {},
   "outputs": [],
   "source": [
    "df=pd.concat([df,provider_dummy],axis=1)"
   ]
  },
  {
   "cell_type": "code",
   "execution_count": 22,
   "metadata": {},
   "outputs": [],
   "source": [
    "df.drop(['Previous.provider'], axis=1, inplace=True)"
   ]
  },
  {
   "cell_type": "code",
   "execution_count": 23,
   "metadata": {},
   "outputs": [
    {
     "data": {
      "text/plain": [
       "(1200, 34)"
      ]
     },
     "execution_count": 23,
     "metadata": {},
     "output_type": "execute_result"
    }
   ],
   "source": [
    "df.shape"
   ]
  },
  {
   "cell_type": "markdown",
   "metadata": {},
   "source": [
    "**Missing value**"
   ]
  },
  {
   "cell_type": "code",
   "execution_count": 24,
   "metadata": {},
   "outputs": [
    {
     "name": "stderr",
     "output_type": "stream",
     "text": [
      "C:\\Users\\Hassan\\Anaconda3\\lib\\site-packages\\sklearn\\utils\\deprecation.py:58: DeprecationWarning: Class Imputer is deprecated; Imputer was deprecated in version 0.20 and will be removed in 0.22. Import impute.SimpleImputer from sklearn instead.\n",
      "  warnings.warn(msg, category=DeprecationWarning)\n"
     ]
    },
    {
     "data": {
      "text/plain": [
       "Imputer(axis=0, copy=True, missing_values='NaN', strategy='most_frequent',\n",
       "    verbose=0)"
      ]
     },
     "execution_count": 24,
     "metadata": {},
     "output_type": "execute_result"
    }
   ],
   "source": [
    "from sklearn.preprocessing import Imputer\n",
    "imp = Imputer(missing_values='NaN', strategy='most_frequent', axis=0)\n",
    "imp.fit(df)"
   ]
  },
  {
   "cell_type": "code",
   "execution_count": 25,
   "metadata": {},
   "outputs": [],
   "source": [
    "# Checking rows now\n",
    "def summary_missing(dataset):\n",
    "    n_miss = dataset.isnull().sum()\n",
    "    n_obs = dataset.shape[0]\n",
    "    n_miss_per = n_miss/n_obs*100\n",
    "    n_miss_tbl = pd.concat([n_miss, n_miss_per], axis = 1).sort_values(1, ascending = False).round(1)\n",
    "    n_miss_tbl = n_miss_tbl[n_miss_tbl[1] != 0]\n",
    "    print('No. of fields: ', dataset.shape[0])\n",
    "    print('No. of missing fields: ', n_miss_tbl.shape[0])\n",
    "    n_miss_tbl = n_miss_tbl.rename(columns = {0:'No. of mising Value', 1:'%age of missing Value'})\n",
    "    return n_miss_tbl"
   ]
  },
  {
   "cell_type": "code",
   "execution_count": 26,
   "metadata": {},
   "outputs": [
    {
     "name": "stdout",
     "output_type": "stream",
     "text": [
      "No. of fields:  1200\n",
      "No. of missing fields:  0\n"
     ]
    },
    {
     "data": {
      "text/html": [
       "<div>\n",
       "<style scoped>\n",
       "    .dataframe tbody tr th:only-of-type {\n",
       "        vertical-align: middle;\n",
       "    }\n",
       "\n",
       "    .dataframe tbody tr th {\n",
       "        vertical-align: top;\n",
       "    }\n",
       "\n",
       "    .dataframe thead th {\n",
       "        text-align: right;\n",
       "    }\n",
       "</style>\n",
       "<table border=\"1\" class=\"dataframe\">\n",
       "  <thead>\n",
       "    <tr style=\"text-align: right;\">\n",
       "      <th></th>\n",
       "      <th>No. of mising Value</th>\n",
       "      <th>%age of missing Value</th>\n",
       "    </tr>\n",
       "  </thead>\n",
       "  <tbody>\n",
       "  </tbody>\n",
       "</table>\n",
       "</div>"
      ],
      "text/plain": [
       "Empty DataFrame\n",
       "Columns: [No. of mising Value, %age of missing Value]\n",
       "Index: []"
      ]
     },
     "execution_count": 26,
     "metadata": {},
     "output_type": "execute_result"
    }
   ],
   "source": [
    "summary_missing(df)"
   ]
  },
  {
   "cell_type": "markdown",
   "metadata": {},
   "source": [
    "**Separate features**"
   ]
  },
  {
   "cell_type": "code",
   "execution_count": 27,
   "metadata": {},
   "outputs": [],
   "source": [
    "df_tunning=df.copy()"
   ]
  },
  {
   "cell_type": "code",
   "execution_count": 28,
   "metadata": {},
   "outputs": [],
   "source": [
    "df_labels=df['Churn.Status']"
   ]
  },
  {
   "cell_type": "code",
   "execution_count": 29,
   "metadata": {},
   "outputs": [],
   "source": [
    "df_model = df.drop(['Churn.Status'], axis=1)"
   ]
  },
  {
   "cell_type": "markdown",
   "metadata": {},
   "source": [
    "**Transform**"
   ]
  },
  {
   "cell_type": "code",
   "execution_count": 30,
   "metadata": {},
   "outputs": [
    {
     "name": "stderr",
     "output_type": "stream",
     "text": [
      "C:\\Users\\Hassan\\Anaconda3\\lib\\site-packages\\sklearn\\preprocessing\\data.py:645: DataConversionWarning: Data with input dtype uint8, int64, float64 were all converted to float64 by StandardScaler.\n",
      "  return self.partial_fit(X, y)\n",
      "C:\\Users\\Hassan\\Anaconda3\\lib\\site-packages\\sklearn\\base.py:464: DataConversionWarning: Data with input dtype uint8, int64, float64 were all converted to float64 by StandardScaler.\n",
      "  return self.fit(X, **fit_params).transform(X)\n"
     ]
    }
   ],
   "source": [
    "from sklearn.preprocessing import StandardScaler\n",
    "X = StandardScaler().fit_transform(df_model) # Since we have separated our label i.e churn feature.So, all other values are in X"
   ]
  },
  {
   "cell_type": "code",
   "execution_count": 31,
   "metadata": {},
   "outputs": [
    {
     "data": {
      "text/plain": [
       "(1200, 33)"
      ]
     },
     "execution_count": 31,
     "metadata": {},
     "output_type": "execute_result"
    }
   ],
   "source": [
    "X.shape"
   ]
  },
  {
   "cell_type": "code",
   "execution_count": 32,
   "metadata": {},
   "outputs": [
    {
     "data": {
      "text/plain": [
       "numpy.ndarray"
      ]
     },
     "execution_count": 32,
     "metadata": {},
     "output_type": "execute_result"
    }
   ],
   "source": [
    "type(X)"
   ]
  },
  {
   "cell_type": "markdown",
   "metadata": {},
   "source": [
    "**Train-test Split**"
   ]
  },
  {
   "cell_type": "code",
   "execution_count": 33,
   "metadata": {},
   "outputs": [],
   "source": [
    "from sklearn.model_selection import train_test_split\n",
    "\n",
    "X_train, X_test, y_train, y_test = train_test_split(X, df_labels, test_size=0.1660, random_state=0)"
   ]
  },
  {
   "cell_type": "code",
   "execution_count": 34,
   "metadata": {},
   "outputs": [
    {
     "name": "stdout",
     "output_type": "stream",
     "text": [
      "(1000, 33)\n",
      "(200, 33)\n"
     ]
    }
   ],
   "source": [
    "print(X_train.shape)\n",
    "print(X_test.shape)"
   ]
  },
  {
   "cell_type": "code",
   "execution_count": 35,
   "metadata": {},
   "outputs": [
    {
     "name": "stdout",
     "output_type": "stream",
     "text": [
      "(1000,)\n",
      "(200,)\n"
     ]
    }
   ],
   "source": [
    "print(y_train.shape)\n",
    "print(y_test.shape)"
   ]
  },
  {
   "cell_type": "code",
   "execution_count": 36,
   "metadata": {},
   "outputs": [
    {
     "data": {
      "text/plain": [
       "array([[-0.25824096, -0.24435615,  0.09660258, ...,  1.78768123,\n",
       "        -0.33178797, -0.41733475],\n",
       "       [-1.05125281, -1.02015563, -0.13554917, ...,  1.78768123,\n",
       "        -0.33178797, -0.41733475],\n",
       "       [-0.22066488, -0.2075884 ,  1.7133967 , ..., -0.55938384,\n",
       "        -0.33178797,  2.39615797],\n",
       "       ...,\n",
       "       [-1.01759091, -0.98729445,  0.06936202, ..., -0.55938384,\n",
       "        -0.33178797, -0.41733475],\n",
       "       [-0.08210308, -0.07200734,  0.15002365, ..., -0.55938384,\n",
       "         3.01397306, -0.41733475],\n",
       "       [-0.85084705, -0.82413757,  0.26214971, ..., -0.55938384,\n",
       "        -0.33178797,  2.39615797]])"
      ]
     },
     "execution_count": 36,
     "metadata": {},
     "output_type": "execute_result"
    }
   ],
   "source": [
    "X_train"
   ]
  },
  {
   "cell_type": "markdown",
   "metadata": {},
   "source": [
    "**Logistic model**"
   ]
  },
  {
   "cell_type": "code",
   "execution_count": 37,
   "metadata": {},
   "outputs": [],
   "source": [
    "import statsmodels.api as sm"
   ]
  },
  {
   "cell_type": "code",
   "execution_count": 39,
   "metadata": {},
   "outputs": [
    {
     "name": "stdout",
     "output_type": "stream",
     "text": [
      "Warning: Maximum number of iterations has been exceeded.\n",
      "         Current function value: 0.537481\n",
      "         Iterations: 35\n"
     ]
    },
    {
     "name": "stderr",
     "output_type": "stream",
     "text": [
      "C:\\Users\\Hassan\\Anaconda3\\lib\\site-packages\\statsmodels\\base\\model.py:508: ConvergenceWarning: Maximum Likelihood optimization failed to converge. Check mle_retvals\n",
      "  \"Check mle_retvals\", ConvergenceWarning)\n"
     ]
    }
   ],
   "source": [
    "logit= sm.Logit(y_train,sm.add_constant(X_train)).fit()"
   ]
  },
  {
   "cell_type": "code",
   "execution_count": 40,
   "metadata": {},
   "outputs": [
    {
     "data": {
      "text/html": [
       "<table class=\"simpletable\">\n",
       "<tr>\n",
       "        <td>Model:</td>              <td>Logit</td>      <td>Pseudo R-squared:</td>    <td>0.225</td>  \n",
       "</tr>\n",
       "<tr>\n",
       "  <td>Dependent Variable:</td>   <td>Churn.Status</td>         <td>AIC:</td>         <td>1142.9620</td>\n",
       "</tr>\n",
       "<tr>\n",
       "         <td>Date:</td>        <td>2019-06-18 12:42</td>       <td>BIC:</td>         <td>1309.8257</td>\n",
       "</tr>\n",
       "<tr>\n",
       "   <td>No. Observations:</td>        <td>1000</td>        <td>Log-Likelihood:</td>    <td>-537.48</td> \n",
       "</tr>\n",
       "<tr>\n",
       "       <td>Df Model:</td>             <td>33</td>            <td>LL-Null:</td>        <td>-693.15</td> \n",
       "</tr>\n",
       "<tr>\n",
       "     <td>Df Residuals:</td>           <td>966</td>         <td>LLR p-value:</td>    <td>5.0594e-47</td>\n",
       "</tr>\n",
       "<tr>\n",
       "      <td>Converged:</td>           <td>0.0000</td>           <td>Scale:</td>         <td>1.0000</td>  \n",
       "</tr>\n",
       "<tr>\n",
       "    <td>No. Iterations:</td>        <td>35.0000</td>             <td></td>               <td></td>     \n",
       "</tr>\n",
       "</table>\n",
       "<table class=\"simpletable\">\n",
       "<tr>\n",
       "    <td></td>     <th>Coef.</th>    <th>Std.Err.</th>      <th>z</th>     <th>P>|z|</th>     <th>[0.025</th>        <th>0.975]</th>    \n",
       "</tr>\n",
       "<tr>\n",
       "  <th>const</th> <td>0.0038</td>     <td>0.2598</td>    <td>0.0145</td>  <td>0.9885</td>     <td>-0.5054</td>       <td>0.5129</td>    \n",
       "</tr>\n",
       "<tr>\n",
       "  <th>x1</th>    <td>4.4006</td>     <td>28.9173</td>   <td>0.1522</td>  <td>0.8790</td>    <td>-52.2763</td>       <td>61.0775</td>   \n",
       "</tr>\n",
       "<tr>\n",
       "  <th>x2</th>    <td>-4.7993</td>    <td>29.5531</td>   <td>-0.1624</td> <td>0.8710</td>    <td>-62.7222</td>       <td>53.1236</td>   \n",
       "</tr>\n",
       "<tr>\n",
       "  <th>x3</th>    <td>0.1244</td>  <td>5875358.0182</td> <td>0.0000</td>  <td>1.0000</td> <td>-11515489.9875</td> <td>11515490.2363</td>\n",
       "</tr>\n",
       "<tr>\n",
       "  <th>x4</th>    <td>-0.4973</td> <td>2501724.1467</td> <td>-0.0000</td> <td>1.0000</td>  <td>-4903289.7241</td> <td>4903288.7295</td> \n",
       "</tr>\n",
       "<tr>\n",
       "  <th>x5</th>    <td>0.5511</td>  <td>4244340.6211</td> <td>0.0000</td>  <td>1.0000</td>  <td>-8318754.2045</td> <td>8318755.3066</td> \n",
       "</tr>\n",
       "<tr>\n",
       "  <th>x6</th>    <td>0.2598</td>     <td>0.1245</td>    <td>2.0872</td>  <td>0.0369</td>     <td>0.0158</td>        <td>0.5037</td>    \n",
       "</tr>\n",
       "<tr>\n",
       "  <th>x7</th>    <td>-0.5603</td>    <td>0.1374</td>    <td>-4.0778</td> <td>0.0000</td>     <td>-0.8296</td>       <td>-0.2910</td>   \n",
       "</tr>\n",
       "<tr>\n",
       "  <th>x8</th>    <td>-0.5065</td>    <td>0.1190</td>    <td>-4.2575</td> <td>0.0000</td>     <td>-0.7396</td>       <td>-0.2733</td>   \n",
       "</tr>\n",
       "<tr>\n",
       "  <th>x9</th>    <td>-0.0322</td>    <td>0.0747</td>    <td>-0.4309</td> <td>0.6666</td>     <td>-0.1785</td>       <td>0.1142</td>    \n",
       "</tr>\n",
       "<tr>\n",
       "  <th>x10</th>   <td>0.0798</td>     <td>0.2570</td>    <td>0.3107</td>  <td>0.7560</td>     <td>-0.4238</td>       <td>0.5835</td>    \n",
       "</tr>\n",
       "<tr>\n",
       "  <th>x11</th>   <td>0.1503</td>     <td>0.2248</td>    <td>0.6686</td>  <td>0.5037</td>     <td>-0.2903</td>       <td>0.5909</td>    \n",
       "</tr>\n",
       "<tr>\n",
       "  <th>x12</th>   <td>0.3880</td>     <td>0.0796</td>    <td>4.8751</td>  <td>0.0000</td>     <td>0.2320</td>        <td>0.5441</td>    \n",
       "</tr>\n",
       "<tr>\n",
       "  <th>x13</th>   <td>-0.0211</td>    <td>0.0754</td>    <td>-0.2798</td> <td>0.7796</td>     <td>-0.1688</td>       <td>0.1266</td>    \n",
       "</tr>\n",
       "<tr>\n",
       "  <th>x14</th>   <td>-0.0493</td>    <td>0.0719</td>    <td>-0.6855</td> <td>0.4931</td>     <td>-0.1903</td>       <td>0.0917</td>    \n",
       "</tr>\n",
       "<tr>\n",
       "  <th>x15</th>   <td>-0.1143</td>    <td>0.0726</td>    <td>-1.5734</td> <td>0.1156</td>     <td>-0.2566</td>       <td>0.0281</td>    \n",
       "</tr>\n",
       "<tr>\n",
       "  <th>x16</th>   <td>-0.8459</td>    <td>0.0880</td>    <td>-9.6105</td> <td>0.0000</td>     <td>-1.0184</td>       <td>-0.6734</td>   \n",
       "</tr>\n",
       "<tr>\n",
       "  <th>x17</th>   <td>0.0802</td>     <td>0.1315</td>    <td>0.6094</td>  <td>0.5423</td>     <td>-0.1776</td>       <td>0.3380</td>    \n",
       "</tr>\n",
       "<tr>\n",
       "  <th>x18</th>   <td>0.0877</td>     <td>0.1127</td>    <td>0.7788</td>  <td>0.4361</td>     <td>-0.1331</td>       <td>0.3086</td>    \n",
       "</tr>\n",
       "<tr>\n",
       "  <th>x19</th>   <td>-0.0533</td>    <td>0.2309</td>    <td>-0.2307</td> <td>0.8175</td>     <td>-0.5058</td>       <td>0.3993</td>    \n",
       "</tr>\n",
       "<tr>\n",
       "  <th>x20</th>   <td>0.1457</td>     <td>0.1122</td>    <td>1.2979</td>  <td>0.1943</td>     <td>-0.0743</td>       <td>0.3657</td>    \n",
       "</tr>\n",
       "<tr>\n",
       "  <th>x21</th>   <td>0.0213</td>     <td>0.2597</td>    <td>0.0821</td>  <td>0.9346</td>     <td>-0.4877</td>       <td>0.5303</td>    \n",
       "</tr>\n",
       "<tr>\n",
       "  <th>x22</th>   <td>0.1813</td>     <td>0.3339</td>    <td>0.5431</td>  <td>0.5871</td>     <td>-0.4731</td>       <td>0.8358</td>    \n",
       "</tr>\n",
       "<tr>\n",
       "  <th>x23</th>   <td>0.3189</td>     <td>0.2722</td>    <td>1.1717</td>  <td>0.2413</td>     <td>-0.2145</td>       <td>0.8523</td>    \n",
       "</tr>\n",
       "<tr>\n",
       "  <th>x24</th>   <td>-0.0370</td>    <td>0.1457</td>    <td>-0.2538</td> <td>0.7997</td>     <td>-0.3224</td>       <td>0.2485</td>    \n",
       "</tr>\n",
       "<tr>\n",
       "  <th>x25</th>   <td>0.2228</td>     <td>0.2087</td>    <td>1.0676</td>  <td>0.2857</td>     <td>-0.1862</td>       <td>0.6317</td>    \n",
       "</tr>\n",
       "<tr>\n",
       "  <th>x26</th>   <td>0.1837</td>     <td>0.2201</td>    <td>0.8346</td>  <td>0.4039</td>     <td>-0.2477</td>       <td>0.6150</td>    \n",
       "</tr>\n",
       "<tr>\n",
       "  <th>x27</th>   <td>0.3732</td>     <td>0.3991</td>    <td>0.9351</td>  <td>0.3497</td>     <td>-0.4090</td>       <td>1.1554</td>    \n",
       "</tr>\n",
       "<tr>\n",
       "  <th>x28</th>   <td>0.1702</td>     <td>0.1623</td>    <td>1.0482</td>  <td>0.2945</td>     <td>-0.1480</td>       <td>0.4884</td>    \n",
       "</tr>\n",
       "<tr>\n",
       "  <th>x29</th>   <td>0.3493</td>     <td>0.1893</td>    <td>1.8450</td>  <td>0.0650</td>     <td>-0.0218</td>       <td>0.7204</td>    \n",
       "</tr>\n",
       "<tr>\n",
       "  <th>x30</th>   <td>0.1351</td>     <td>0.1492</td>    <td>0.9055</td>  <td>0.3652</td>     <td>-0.1573</td>       <td>0.4275</td>    \n",
       "</tr>\n",
       "<tr>\n",
       "  <th>x31</th>   <td>0.4824</td>     <td>0.1927</td>    <td>2.5028</td>  <td>0.0123</td>     <td>0.1046</td>        <td>0.8601</td>    \n",
       "</tr>\n",
       "<tr>\n",
       "  <th>x32</th>   <td>0.2260</td>     <td>0.1450</td>    <td>1.5590</td>  <td>0.1190</td>     <td>-0.0581</td>       <td>0.5102</td>    \n",
       "</tr>\n",
       "<tr>\n",
       "  <th>x33</th>   <td>0.3347</td>     <td>0.1653</td>    <td>2.0245</td>  <td>0.0429</td>     <td>0.0107</td>        <td>0.6588</td>    \n",
       "</tr>\n",
       "</table>"
      ],
      "text/plain": [
       "<class 'statsmodels.iolib.summary2.Summary'>\n",
       "\"\"\"\n",
       "                            Results: Logit\n",
       "======================================================================\n",
       "Model:                 Logit             Pseudo R-squared:  0.225     \n",
       "Dependent Variable:    Churn.Status      AIC:               1142.9620 \n",
       "Date:                  2019-06-18 12:42  BIC:               1309.8257 \n",
       "No. Observations:      1000              Log-Likelihood:    -537.48   \n",
       "Df Model:              33                LL-Null:           -693.15   \n",
       "Df Residuals:          966               LLR p-value:       5.0594e-47\n",
       "Converged:             0.0000            Scale:             1.0000    \n",
       "No. Iterations:        35.0000                                        \n",
       "----------------------------------------------------------------------\n",
       "       Coef.    Std.Err.      z    P>|z|      [0.025         0.975]   \n",
       "----------------------------------------------------------------------\n",
       "const  0.0038       0.2598  0.0145 0.9885        -0.5054        0.5129\n",
       "x1     4.4006      28.9173  0.1522 0.8790       -52.2763       61.0775\n",
       "x2    -4.7993      29.5531 -0.1624 0.8710       -62.7222       53.1236\n",
       "x3     0.1244 5875358.0182  0.0000 1.0000 -11515489.9875 11515490.2363\n",
       "x4    -0.4973 2501724.1467 -0.0000 1.0000  -4903289.7241  4903288.7295\n",
       "x5     0.5511 4244340.6211  0.0000 1.0000  -8318754.2045  8318755.3066\n",
       "x6     0.2598       0.1245  2.0872 0.0369         0.0158        0.5037\n",
       "x7    -0.5603       0.1374 -4.0778 0.0000        -0.8296       -0.2910\n",
       "x8    -0.5065       0.1190 -4.2575 0.0000        -0.7396       -0.2733\n",
       "x9    -0.0322       0.0747 -0.4309 0.6666        -0.1785        0.1142\n",
       "x10    0.0798       0.2570  0.3107 0.7560        -0.4238        0.5835\n",
       "x11    0.1503       0.2248  0.6686 0.5037        -0.2903        0.5909\n",
       "x12    0.3880       0.0796  4.8751 0.0000         0.2320        0.5441\n",
       "x13   -0.0211       0.0754 -0.2798 0.7796        -0.1688        0.1266\n",
       "x14   -0.0493       0.0719 -0.6855 0.4931        -0.1903        0.0917\n",
       "x15   -0.1143       0.0726 -1.5734 0.1156        -0.2566        0.0281\n",
       "x16   -0.8459       0.0880 -9.6105 0.0000        -1.0184       -0.6734\n",
       "x17    0.0802       0.1315  0.6094 0.5423        -0.1776        0.3380\n",
       "x18    0.0877       0.1127  0.7788 0.4361        -0.1331        0.3086\n",
       "x19   -0.0533       0.2309 -0.2307 0.8175        -0.5058        0.3993\n",
       "x20    0.1457       0.1122  1.2979 0.1943        -0.0743        0.3657\n",
       "x21    0.0213       0.2597  0.0821 0.9346        -0.4877        0.5303\n",
       "x22    0.1813       0.3339  0.5431 0.5871        -0.4731        0.8358\n",
       "x23    0.3189       0.2722  1.1717 0.2413        -0.2145        0.8523\n",
       "x24   -0.0370       0.1457 -0.2538 0.7997        -0.3224        0.2485\n",
       "x25    0.2228       0.2087  1.0676 0.2857        -0.1862        0.6317\n",
       "x26    0.1837       0.2201  0.8346 0.4039        -0.2477        0.6150\n",
       "x27    0.3732       0.3991  0.9351 0.3497        -0.4090        1.1554\n",
       "x28    0.1702       0.1623  1.0482 0.2945        -0.1480        0.4884\n",
       "x29    0.3493       0.1893  1.8450 0.0650        -0.0218        0.7204\n",
       "x30    0.1351       0.1492  0.9055 0.3652        -0.1573        0.4275\n",
       "x31    0.4824       0.1927  2.5028 0.0123         0.1046        0.8601\n",
       "x32    0.2260       0.1450  1.5590 0.1190        -0.0581        0.5102\n",
       "x33    0.3347       0.1653  2.0245 0.0429         0.0107        0.6588\n",
       "======================================================================\n",
       "\n",
       "\"\"\""
      ]
     },
     "execution_count": 40,
     "metadata": {},
     "output_type": "execute_result"
    }
   ],
   "source": [
    "logit.summary2()"
   ]
  },
  {
   "cell_type": "code",
   "execution_count": 41,
   "metadata": {},
   "outputs": [
    {
     "data": {
      "text/plain": [
       "Index(['Years.customer', 'Months.customer', 'Minutes.in.2018', 'Minutes.onnet',\n",
       "       'Minutes.offnet', 'Number.of.SMS', 'KBs.used', 'Total.Unique.Calls',\n",
       "       'Customer.Age', 'Latitude', 'Longitude', 'LoginsSite.Last.Month',\n",
       "       'LoginsSite.Last.6Months', 'EndSubscription',\n",
       "       'Total.Call.centre.complaint.calls', 'MonthlySubscriptionPrice',\n",
       "       'Province_Flevoland', 'Province_Friesland', 'Province_Gelderland',\n",
       "       'Province_Groningen', 'Province_Limburg', 'Province_Noord-Brabant',\n",
       "       'Province_Noord-Holland', 'Province_Overijssel', 'Province_Utrecht',\n",
       "       'Province_Zeeland', 'Province_Zuid-Holland', 'Previous.provider_Ben',\n",
       "       'Previous.provider_KPN', 'Previous.provider_T-Mobile',\n",
       "       'Previous.provider_TELE2', 'Previous.provider_Telfort',\n",
       "       'Previous.provider_Vodafone'],\n",
       "      dtype='object')"
      ]
     },
     "execution_count": 41,
     "metadata": {},
     "output_type": "execute_result"
    }
   ],
   "source": [
    "df_model.columns"
   ]
  },
  {
   "cell_type": "markdown",
   "metadata": {},
   "source": [
    "### Note\n",
    "\n",
    "- X6,7,8,12,16,31,33 are significant variables. \n",
    "\n",
    "- They are 'Number.of.SMS', 'KBs.used','Total.Unique.Calls','LoginsSite.Last.Month', 'MonthlySubscriptionPrice',Previous.provider_TELE2,Previous.provider_Vodafone."
   ]
  },
  {
   "cell_type": "markdown",
   "metadata": {},
   "source": [
    "### VIF -Variance Inflation Factor\n",
    "\n",
    "impact of collinearity among the variables in a regression model. The Variance Inflation Factor (VIF) is 1/Tolerance, it is always greater than or equal to 1. There is no formal VIF value for determining presence of multicollinearity. Values of VIF that **exceed 10 are often regarded as indicating multicollinearity, but in weaker models values above 2.5 may be a cause for concern**"
   ]
  },
  {
   "cell_type": "code",
   "execution_count": 42,
   "metadata": {},
   "outputs": [],
   "source": [
    "# For each X, calculate VIF and save in dataframe\n",
    "from statsmodels.stats.outliers_influence import variance_inflation_factor\n",
    "vif = pd.DataFrame()\n",
    "vif[\"VIF Factor\"] = [variance_inflation_factor(X_train, i) for i in range(X.shape[1])]"
   ]
  },
  {
   "cell_type": "code",
   "execution_count": 43,
   "metadata": {},
   "outputs": [],
   "source": [
    "vif[\"features\"] = df_model.columns"
   ]
  },
  {
   "cell_type": "code",
   "execution_count": 44,
   "metadata": {},
   "outputs": [
    {
     "data": {
      "text/html": [
       "<div>\n",
       "<style scoped>\n",
       "    .dataframe tbody tr th:only-of-type {\n",
       "        vertical-align: middle;\n",
       "    }\n",
       "\n",
       "    .dataframe tbody tr th {\n",
       "        vertical-align: top;\n",
       "    }\n",
       "\n",
       "    .dataframe thead th {\n",
       "        text-align: right;\n",
       "    }\n",
       "</style>\n",
       "<table border=\"1\" class=\"dataframe\">\n",
       "  <thead>\n",
       "    <tr style=\"text-align: right;\">\n",
       "      <th></th>\n",
       "      <th>VIF Factor</th>\n",
       "      <th>features</th>\n",
       "    </tr>\n",
       "  </thead>\n",
       "  <tbody>\n",
       "    <tr>\n",
       "      <th>0</th>\n",
       "      <td>22.736534</td>\n",
       "      <td>Years.customer</td>\n",
       "    </tr>\n",
       "    <tr>\n",
       "      <th>1</th>\n",
       "      <td>22.692625</td>\n",
       "      <td>Months.customer</td>\n",
       "    </tr>\n",
       "    <tr>\n",
       "      <th>2</th>\n",
       "      <td>inf</td>\n",
       "      <td>Minutes.in.2018</td>\n",
       "    </tr>\n",
       "    <tr>\n",
       "      <th>3</th>\n",
       "      <td>inf</td>\n",
       "      <td>Minutes.onnet</td>\n",
       "    </tr>\n",
       "    <tr>\n",
       "      <th>4</th>\n",
       "      <td>inf</td>\n",
       "      <td>Minutes.offnet</td>\n",
       "    </tr>\n",
       "    <tr>\n",
       "      <th>5</th>\n",
       "      <td>1.479287</td>\n",
       "      <td>Number.of.SMS</td>\n",
       "    </tr>\n",
       "    <tr>\n",
       "      <th>6</th>\n",
       "      <td>1.130744</td>\n",
       "      <td>KBs.used</td>\n",
       "    </tr>\n",
       "    <tr>\n",
       "      <th>7</th>\n",
       "      <td>1.885022</td>\n",
       "      <td>Total.Unique.Calls</td>\n",
       "    </tr>\n",
       "    <tr>\n",
       "      <th>8</th>\n",
       "      <td>1.041419</td>\n",
       "      <td>Customer.Age</td>\n",
       "    </tr>\n",
       "    <tr>\n",
       "      <th>9</th>\n",
       "      <td>10.864666</td>\n",
       "      <td>Latitude</td>\n",
       "    </tr>\n",
       "    <tr>\n",
       "      <th>10</th>\n",
       "      <td>8.602165</td>\n",
       "      <td>Longitude</td>\n",
       "    </tr>\n",
       "    <tr>\n",
       "      <th>11</th>\n",
       "      <td>1.049663</td>\n",
       "      <td>LoginsSite.Last.Month</td>\n",
       "    </tr>\n",
       "    <tr>\n",
       "      <th>12</th>\n",
       "      <td>1.035893</td>\n",
       "      <td>LoginsSite.Last.6Months</td>\n",
       "    </tr>\n",
       "    <tr>\n",
       "      <th>13</th>\n",
       "      <td>1.024360</td>\n",
       "      <td>EndSubscription</td>\n",
       "    </tr>\n",
       "    <tr>\n",
       "      <th>14</th>\n",
       "      <td>1.043240</td>\n",
       "      <td>Total.Call.centre.complaint.calls</td>\n",
       "    </tr>\n",
       "    <tr>\n",
       "      <th>15</th>\n",
       "      <td>1.052110</td>\n",
       "      <td>MonthlySubscriptionPrice</td>\n",
       "    </tr>\n",
       "    <tr>\n",
       "      <th>16</th>\n",
       "      <td>3.243759</td>\n",
       "      <td>Province_Flevoland</td>\n",
       "    </tr>\n",
       "    <tr>\n",
       "      <th>17</th>\n",
       "      <td>2.487218</td>\n",
       "      <td>Province_Friesland</td>\n",
       "    </tr>\n",
       "    <tr>\n",
       "      <th>18</th>\n",
       "      <td>10.142825</td>\n",
       "      <td>Province_Gelderland</td>\n",
       "    </tr>\n",
       "    <tr>\n",
       "      <th>19</th>\n",
       "      <td>1.935873</td>\n",
       "      <td>Province_Groningen</td>\n",
       "    </tr>\n",
       "    <tr>\n",
       "      <th>20</th>\n",
       "      <td>12.144760</td>\n",
       "      <td>Province_Limburg</td>\n",
       "    </tr>\n",
       "    <tr>\n",
       "      <th>21</th>\n",
       "      <td>19.793634</td>\n",
       "      <td>Province_Noord-Brabant</td>\n",
       "    </tr>\n",
       "    <tr>\n",
       "      <th>22</th>\n",
       "      <td>13.806861</td>\n",
       "      <td>Province_Noord-Holland</td>\n",
       "    </tr>\n",
       "    <tr>\n",
       "      <th>23</th>\n",
       "      <td>3.798893</td>\n",
       "      <td>Province_Overijssel</td>\n",
       "    </tr>\n",
       "    <tr>\n",
       "      <th>24</th>\n",
       "      <td>7.349309</td>\n",
       "      <td>Province_Utrecht</td>\n",
       "    </tr>\n",
       "    <tr>\n",
       "      <th>25</th>\n",
       "      <td>8.695164</td>\n",
       "      <td>Province_Zeeland</td>\n",
       "    </tr>\n",
       "    <tr>\n",
       "      <th>26</th>\n",
       "      <td>28.352881</td>\n",
       "      <td>Province_Zuid-Holland</td>\n",
       "    </tr>\n",
       "    <tr>\n",
       "      <th>27</th>\n",
       "      <td>4.857217</td>\n",
       "      <td>Previous.provider_Ben</td>\n",
       "    </tr>\n",
       "    <tr>\n",
       "      <th>28</th>\n",
       "      <td>6.322735</td>\n",
       "      <td>Previous.provider_KPN</td>\n",
       "    </tr>\n",
       "    <tr>\n",
       "      <th>29</th>\n",
       "      <td>3.906706</td>\n",
       "      <td>Previous.provider_T-Mobile</td>\n",
       "    </tr>\n",
       "    <tr>\n",
       "      <th>30</th>\n",
       "      <td>6.391606</td>\n",
       "      <td>Previous.provider_TELE2</td>\n",
       "    </tr>\n",
       "    <tr>\n",
       "      <th>31</th>\n",
       "      <td>3.609479</td>\n",
       "      <td>Previous.provider_Telfort</td>\n",
       "    </tr>\n",
       "    <tr>\n",
       "      <th>32</th>\n",
       "      <td>4.808751</td>\n",
       "      <td>Previous.provider_Vodafone</td>\n",
       "    </tr>\n",
       "  </tbody>\n",
       "</table>\n",
       "</div>"
      ],
      "text/plain": [
       "    VIF Factor                           features\n",
       "0    22.736534                     Years.customer\n",
       "1    22.692625                    Months.customer\n",
       "2          inf                    Minutes.in.2018\n",
       "3          inf                      Minutes.onnet\n",
       "4          inf                     Minutes.offnet\n",
       "5     1.479287                      Number.of.SMS\n",
       "6     1.130744                           KBs.used\n",
       "7     1.885022                 Total.Unique.Calls\n",
       "8     1.041419                       Customer.Age\n",
       "9    10.864666                           Latitude\n",
       "10    8.602165                          Longitude\n",
       "11    1.049663              LoginsSite.Last.Month\n",
       "12    1.035893            LoginsSite.Last.6Months\n",
       "13    1.024360                    EndSubscription\n",
       "14    1.043240  Total.Call.centre.complaint.calls\n",
       "15    1.052110           MonthlySubscriptionPrice\n",
       "16    3.243759                 Province_Flevoland\n",
       "17    2.487218                 Province_Friesland\n",
       "18   10.142825                Province_Gelderland\n",
       "19    1.935873                 Province_Groningen\n",
       "20   12.144760                   Province_Limburg\n",
       "21   19.793634             Province_Noord-Brabant\n",
       "22   13.806861             Province_Noord-Holland\n",
       "23    3.798893                Province_Overijssel\n",
       "24    7.349309                   Province_Utrecht\n",
       "25    8.695164                   Province_Zeeland\n",
       "26   28.352881              Province_Zuid-Holland\n",
       "27    4.857217              Previous.provider_Ben\n",
       "28    6.322735              Previous.provider_KPN\n",
       "29    3.906706         Previous.provider_T-Mobile\n",
       "30    6.391606            Previous.provider_TELE2\n",
       "31    3.609479          Previous.provider_Telfort\n",
       "32    4.808751         Previous.provider_Vodafone"
      ]
     },
     "execution_count": 44,
     "metadata": {},
     "output_type": "execute_result"
    }
   ],
   "source": [
    "vif"
   ]
  },
  {
   "cell_type": "markdown",
   "metadata": {},
   "source": [
    "**Features that are in danger VIF value are years.customers, month.customer,Latitude, longitutde , Province_Zuid-Holland,Province_Noord-Holland,Province_Noord-Brabant,Province_Limburg,Province_Gelderland.**"
   ]
  },
  {
   "cell_type": "code",
   "execution_count": null,
   "metadata": {},
   "outputs": [],
   "source": []
  }
 ],
 "metadata": {
  "kernelspec": {
   "display_name": "Python 3",
   "language": "python",
   "name": "python3"
  },
  "language_info": {
   "codemirror_mode": {
    "name": "ipython",
    "version": 3
   },
   "file_extension": ".py",
   "mimetype": "text/x-python",
   "name": "python",
   "nbconvert_exporter": "python",
   "pygments_lexer": "ipython3",
   "version": "3.6.5"
  }
 },
 "nbformat": 4,
 "nbformat_minor": 2
}
